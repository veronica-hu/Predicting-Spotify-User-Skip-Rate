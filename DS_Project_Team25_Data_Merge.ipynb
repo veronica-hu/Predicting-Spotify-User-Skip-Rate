{
 "cells": [
  {
   "cell_type": "markdown",
   "metadata": {},
   "source": [
    "#### Purposes of this file:\n",
    "- Use random sampling to select small subsets from the original dataset\n",
    "- Preliminary analysis on our sample data"
   ]
  },
  {
   "cell_type": "markdown",
   "metadata": {},
   "source": [
    "# 1. Random Sampling"
   ]
  },
  {
   "cell_type": "code",
   "execution_count": 1,
   "metadata": {},
   "outputs": [],
   "source": [
    "import pandas as pd\n",
    "import os\n",
    "import random"
   ]
  },
  {
   "cell_type": "code",
   "execution_count": 2,
   "metadata": {},
   "outputs": [],
   "source": [
    "# Download training_set_0 in the same file with this notebook\n",
    "path = './training_set_0'"
   ]
  },
  {
   "cell_type": "code",
   "execution_count": 6,
   "metadata": {
    "scrolled": true
   },
   "outputs": [
    {
     "data": {
      "text/plain": [
       "['log_0_20180722_000000000000.csv',\n",
       " 'log_0_20180821_000000000000.csv',\n",
       " 'log_0_20180918_000000000000.csv',\n",
       " 'log_0_20180907_000000000000.csv',\n",
       " 'log_0_20180717_000000000000.csv',\n",
       " 'log_0_20180729_000000000000.csv',\n",
       " 'log_0_20180814_000000000000.csv',\n",
       " 'log_0_20180913_000000000000.csv',\n",
       " 'log_0_20180831_000000000000.csv',\n",
       " 'log_0_20180908_000000000000.csv',\n",
       " 'log_0_20180917_000000000000.csv',\n",
       " 'log_0_20180810_000000000000.csv',\n",
       " 'log_0_20180804_000000000000.csv',\n",
       " 'log_0_20180903_000000000000.csv',\n",
       " 'log_0_20180825_000000000000.csv',\n",
       " 'log_0_20180726_000000000000.csv',\n",
       " 'log_0_20180718_000000000000.csv',\n",
       " 'log_0_20180906_000000000000.csv',\n",
       " 'log_0_20180801_000000000000.csv',\n",
       " 'log_0_20180820_000000000000.csv',\n",
       " 'log_0_20180723_000000000000.csv',\n",
       " 'log_0_20180815_000000000000.csv',\n",
       " 'log_0_20180912_000000000000.csv',\n",
       " 'log_0_20180716_000000000000.csv',\n",
       " 'log_0_20180728_000000000000.csv',\n",
       " 'log_0_20180916_000000000000.csv',\n",
       " 'log_0_20180811_000000000000.csv',\n",
       " 'log_0_20180830_000000000000.csv',\n",
       " 'log_0_20180909_000000000000.csv',\n",
       " 'log_0_20180727_000000000000.csv',\n",
       " 'log_0_20180719_000000000000.csv',\n",
       " 'log_0_20180824_000000000000.csv',\n",
       " 'log_0_20180805_000000000000.csv',\n",
       " 'log_0_20180902_000000000000.csv',\n",
       " 'log_0_20180809_000000000000.csv',\n",
       " 'log_0_20180715_000000000000.csv',\n",
       " 'log_0_20180911_000000000000.csv',\n",
       " 'log_0_20180828_000000000000.csv',\n",
       " 'log_0_20180816_000000000000.csv',\n",
       " 'log_0_20180802_000000000000.csv',\n",
       " 'log_0_20180905_000000000000.csv',\n",
       " 'log_0_20180720_000000000000.csv',\n",
       " 'log_0_20180823_000000000000.csv',\n",
       " 'log_0_20180819_000000000000.csv',\n",
       " 'log_0_20180827_000000000000.csv',\n",
       " 'log_0_20180724_000000000000.csv',\n",
       " 'log_0_20180901_000000000000.csv',\n",
       " 'log_0_20180806_000000000000.csv',\n",
       " 'log_0_20180812_000000000000.csv',\n",
       " 'log_0_20180915_000000000000.csv',\n",
       " 'log_0_20180730_000000000000.csv',\n",
       " 'log_0_20180910_000000000000.csv',\n",
       " 'log_0_20180829_000000000000.csv',\n",
       " 'log_0_20180817_000000000000.csv',\n",
       " 'log_0_20180808_000000000000.csv',\n",
       " 'log_0_20180822_000000000000.csv',\n",
       " 'log_0_20180721_000000000000.csv',\n",
       " 'log_0_20180803_000000000000.csv',\n",
       " 'log_0_20180904_000000000000.csv',\n",
       " 'log_0_20180807_000000000000.csv',\n",
       " 'log_0_20180725_000000000000.csv',\n",
       " 'log_0_20180818_000000000000.csv',\n",
       " 'log_0_20180826_000000000000.csv',\n",
       " 'log_0_20180731_000000000000.csv',\n",
       " 'log_0_20180813_000000000000.csv',\n",
       " 'log_0_20180914_000000000000.csv']"
      ]
     },
     "execution_count": 6,
     "metadata": {},
     "output_type": "execute_result"
    }
   ],
   "source": [
    "# Read all file names in training_set_0 and store them in a list\n",
    "file_list = [file_name for file_name in os.listdir(path)]\n",
    "file_list"
   ]
  },
  {
   "cell_type": "markdown",
   "metadata": {},
   "source": [
    "#### Put the randomly selected rows in each file together"
   ]
  },
  {
   "cell_type": "code",
   "execution_count": 96,
   "metadata": {},
   "outputs": [],
   "source": [
    "df_all = pd.DataFrame()\n",
    "session_id_all = []"
   ]
  },
  {
   "cell_type": "code",
   "execution_count": 99,
   "metadata": {
    "scrolled": true
   },
   "outputs": [
    {
     "name": "stdout",
     "output_type": "stream",
     "text": [
      "---------------------\n",
      "file name: log_0_20180722_000000000000.csv\n",
      "number of session ids: 1722\n",
      "length of data (28663, 21)\n",
      "---------------------\n",
      "file name: log_0_20180821_000000000000.csv\n",
      "number of session ids: 1931\n",
      "length of data (31673, 21)\n",
      "---------------------\n",
      "file name: log_0_20180918_000000000000.csv\n",
      "number of session ids: 1922\n",
      "length of data (31861, 21)\n",
      "---------------------\n",
      "file name: log_0_20180907_000000000000.csv\n",
      "number of session ids: 2011\n",
      "length of data (33332, 21)\n",
      "---------------------\n",
      "file name: log_0_20180717_000000000000.csv\n",
      "number of session ids: 2032\n",
      "length of data (33752, 21)\n",
      "---------------------\n",
      "file name: log_0_20180729_000000000000.csv\n",
      "number of session ids: 1715\n",
      "length of data (28608, 21)\n",
      "---------------------\n",
      "file name: log_0_20180814_000000000000.csv\n",
      "number of session ids: 1884\n",
      "length of data (31521, 21)\n",
      "---------------------\n",
      "file name: log_0_20180913_000000000000.csv\n",
      "number of session ids: 1935\n",
      "length of data (31951, 21)\n",
      "---------------------\n",
      "file name: log_0_20180831_000000000000.csv\n",
      "number of session ids: 2157\n",
      "length of data (35534, 21)\n",
      "---------------------\n",
      "file name: log_0_20180908_000000000000.csv\n",
      "number of session ids: 1732\n",
      "length of data (29047, 21)\n",
      "---------------------\n",
      "file name: log_0_20180917_000000000000.csv\n",
      "number of session ids: 1883\n",
      "length of data (31386, 21)\n",
      "---------------------\n",
      "file name: log_0_20180810_000000000000.csv\n",
      "number of session ids: 2054\n",
      "length of data (34322, 21)\n",
      "---------------------\n",
      "file name: log_0_20180804_000000000000.csv\n",
      "number of session ids: 1856\n",
      "length of data (30876, 21)\n",
      "---------------------\n",
      "file name: log_0_20180903_000000000000.csv\n",
      "number of session ids: 1693\n",
      "length of data (28388, 21)\n",
      "---------------------\n",
      "file name: log_0_20180825_000000000000.csv\n",
      "number of session ids: 1815\n",
      "length of data (29954, 21)\n",
      "---------------------\n",
      "file name: log_0_20180726_000000000000.csv\n",
      "number of session ids: 1961\n",
      "length of data (32711, 21)\n",
      "---------------------\n",
      "file name: log_0_20180718_000000000000.csv\n",
      "number of session ids: 2040\n",
      "length of data (34134, 21)\n",
      "---------------------\n",
      "file name: log_0_20180906_000000000000.csv\n",
      "number of session ids: 1946\n",
      "length of data (31881, 21)\n",
      "---------------------\n",
      "file name: log_0_20180801_000000000000.csv\n",
      "number of session ids: 1912\n",
      "length of data (31431, 21)\n",
      "---------------------\n",
      "file name: log_0_20180820_000000000000.csv\n",
      "number of session ids: 1893\n",
      "length of data (30897, 21)\n",
      "---------------------\n",
      "file name: log_0_20180723_000000000000.csv\n",
      "number of session ids: 1963\n",
      "length of data (32802, 21)\n",
      "---------------------\n",
      "file name: log_0_20180815_000000000000.csv\n",
      "number of session ids: 1884\n",
      "length of data (31054, 21)\n",
      "---------------------\n",
      "file name: log_0_20180912_000000000000.csv\n",
      "number of session ids: 1921\n",
      "length of data (32008, 21)\n",
      "---------------------\n",
      "file name: log_0_20180716_000000000000.csv\n",
      "number of session ids: 2032\n",
      "length of data (33806, 21)\n",
      "---------------------\n",
      "file name: log_0_20180728_000000000000.csv\n",
      "number of session ids: 1877\n",
      "length of data (31590, 21)\n",
      "---------------------\n",
      "file name: log_0_20180916_000000000000.csv\n",
      "number of session ids: 1548\n",
      "length of data (25856, 21)\n",
      "---------------------\n",
      "file name: log_0_20180811_000000000000.csv\n",
      "number of session ids: 1858\n",
      "length of data (30870, 21)\n",
      "---------------------\n",
      "file name: log_0_20180830_000000000000.csv\n",
      "number of session ids: 1915\n",
      "length of data (32002, 21)\n",
      "---------------------\n",
      "file name: log_0_20180909_000000000000.csv\n",
      "number of session ids: 1553\n",
      "length of data (25749, 21)\n",
      "---------------------\n",
      "file name: log_0_20180727_000000000000.csv\n",
      "number of session ids: 2071\n",
      "length of data (34379, 21)\n",
      "---------------------\n",
      "file name: log_0_20180719_000000000000.csv\n",
      "number of session ids: 2049\n",
      "length of data (34371, 21)\n",
      "---------------------\n",
      "file name: log_0_20180824_000000000000.csv\n",
      "number of session ids: 2065\n",
      "length of data (33982, 21)\n",
      "---------------------\n",
      "file name: log_0_20180805_000000000000.csv\n",
      "number of session ids: 1688\n",
      "length of data (28384, 21)\n",
      "---------------------\n",
      "file name: log_0_20180902_000000000000.csv\n",
      "number of session ids: 1643\n",
      "length of data (27009, 21)\n",
      "---------------------\n",
      "file name: log_0_20180809_000000000000.csv\n",
      "number of session ids: 1900\n",
      "length of data (31631, 21)\n",
      "---------------------\n",
      "file name: log_0_20180715_000000000000.csv\n",
      "number of session ids: 1783\n",
      "length of data (29794, 21)\n",
      "---------------------\n",
      "file name: log_0_20180911_000000000000.csv\n",
      "number of session ids: 1877\n",
      "length of data (31065, 21)\n",
      "---------------------\n",
      "file name: log_0_20180828_000000000000.csv\n",
      "number of session ids: 1903\n",
      "length of data (31179, 21)\n",
      "---------------------\n",
      "file name: log_0_20180816_000000000000.csv\n",
      "number of session ids: 1941\n",
      "length of data (31918, 21)\n",
      "---------------------\n",
      "file name: log_0_20180802_000000000000.csv\n",
      "number of session ids: 1937\n",
      "length of data (32383, 21)\n",
      "---------------------\n",
      "file name: log_0_20180905_000000000000.csv\n",
      "number of session ids: 1924\n",
      "length of data (31581, 21)\n",
      "---------------------\n",
      "file name: log_0_20180720_000000000000.csv\n",
      "number of session ids: 2122\n",
      "length of data (35560, 21)\n",
      "---------------------\n",
      "file name: log_0_20180823_000000000000.csv\n",
      "number of session ids: 1919\n",
      "length of data (31575, 21)\n",
      "---------------------\n",
      "file name: log_0_20180819_000000000000.csv\n",
      "number of session ids: 1696\n",
      "length of data (28181, 21)\n",
      "---------------------\n",
      "file name: log_0_20180827_000000000000.csv\n",
      "number of session ids: 1881\n",
      "length of data (31001, 21)\n",
      "---------------------\n",
      "file name: log_0_20180724_000000000000.csv\n",
      "number of session ids: 1999\n",
      "length of data (33152, 21)\n",
      "---------------------\n",
      "file name: log_0_20180901_000000000000.csv\n",
      "number of session ids: 1835\n",
      "length of data (30130, 21)\n",
      "---------------------\n",
      "file name: log_0_20180806_000000000000.csv\n",
      "number of session ids: 1881\n",
      "length of data (31301, 21)\n",
      "---------------------\n",
      "file name: log_0_20180812_000000000000.csv\n",
      "number of session ids: 1684\n",
      "length of data (28219, 21)\n",
      "---------------------\n",
      "file name: log_0_20180915_000000000000.csv\n",
      "number of session ids: 1760\n",
      "length of data (28936, 21)\n",
      "---------------------\n",
      "file name: log_0_20180730_000000000000.csv\n",
      "number of session ids: 1914\n",
      "length of data (32029, 21)\n",
      "---------------------\n",
      "file name: log_0_20180910_000000000000.csv\n",
      "number of session ids: 1870\n",
      "length of data (31033, 21)\n",
      "---------------------\n",
      "file name: log_0_20180829_000000000000.csv\n",
      "number of session ids: 1903\n",
      "length of data (31300, 21)\n",
      "---------------------\n",
      "file name: log_0_20180817_000000000000.csv\n",
      "number of session ids: 2112\n",
      "length of data (35240, 21)\n",
      "---------------------\n",
      "file name: log_0_20180808_000000000000.csv\n",
      "number of session ids: 1899\n",
      "length of data (31432, 21)\n",
      "---------------------\n",
      "file name: log_0_20180822_000000000000.csv\n",
      "number of session ids: 1920\n",
      "length of data (31819, 21)\n",
      "---------------------\n",
      "file name: log_0_20180721_000000000000.csv\n",
      "number of session ids: 1908\n",
      "length of data (31690, 21)\n",
      "---------------------\n",
      "file name: log_0_20180803_000000000000.csv\n",
      "number of session ids: 2073\n",
      "length of data (34425, 21)\n",
      "---------------------\n",
      "file name: log_0_20180904_000000000000.csv\n",
      "number of session ids: 1894\n",
      "length of data (31238, 21)\n",
      "---------------------\n",
      "file name: log_0_20180807_000000000000.csv\n",
      "number of session ids: 1904\n",
      "length of data (31593, 21)\n",
      "---------------------\n",
      "file name: log_0_20180725_000000000000.csv\n",
      "number of session ids: 1958\n",
      "length of data (32769, 21)\n",
      "---------------------\n",
      "file name: log_0_20180818_000000000000.csv\n",
      "number of session ids: 1874\n",
      "length of data (30700, 21)\n",
      "---------------------\n",
      "file name: log_0_20180826_000000000000.csv\n",
      "number of session ids: 1660\n",
      "length of data (27716, 21)\n",
      "---------------------\n",
      "file name: log_0_20180731_000000000000.csv\n",
      "number of session ids: 1934\n",
      "length of data (32058, 21)\n",
      "---------------------\n",
      "file name: log_0_20180813_000000000000.csv\n",
      "number of session ids: 1867\n",
      "length of data (30810, 21)\n",
      "---------------------\n",
      "file name: log_0_20180914_000000000000.csv\n",
      "number of session ids: 2059\n",
      "length of data (34227, 21)\n"
     ]
    }
   ],
   "source": [
    "df_all = pd.DataFrame()\n",
    "session_id_all = []\n",
    "\n",
    "# Put them in a for-loop to select 1% session ids for all files in the folder:\n",
    "for file_name in file_list:\n",
    "    df = pd.read_csv(path+'/'+file_name)\n",
    "    session_list = df['session_id'].unique().tolist()\n",
    "    session_select = random.sample(session_list, round(0.01*len(session_list)))\n",
    "    session_id_all = session_id_all+session_select\n",
    "    df_select = df[df['session_id'].isin(session_select)]\n",
    "    df_all = df_all.append(df_select)\n",
    "    print('---------------------')\n",
    "    print('file name:', file_name)\n",
    "    print('number of session ids:', len(session_select))\n",
    "    print('length of data', df_select.shape)"
   ]
  },
  {
   "cell_type": "code",
   "execution_count": 100,
   "metadata": {},
   "outputs": [
    {
     "data": {
      "text/plain": [
       "(124952, 124952)"
      ]
     },
     "execution_count": 100,
     "metadata": {},
     "output_type": "execute_result"
    }
   ],
   "source": [
    "len(session_id_all), df_all['session_id'].nunique()"
   ]
  },
  {
   "cell_type": "code",
   "execution_count": 101,
   "metadata": {},
   "outputs": [
    {
     "data": {
      "text/plain": [
       "(2073469, 21)"
      ]
     },
     "execution_count": 101,
     "metadata": {},
     "output_type": "execute_result"
    }
   ],
   "source": [
    "df_all.shape"
   ]
  },
  {
   "cell_type": "code",
   "execution_count": 116,
   "metadata": {},
   "outputs": [],
   "source": [
    "# store the dataset in a csv file\n",
    "df_all.to_csv('Trainingset0_all.csv', index=False)"
   ]
  },
  {
   "cell_type": "markdown",
   "metadata": {},
   "source": [
    "# 2. Initial Analysis"
   ]
  },
  {
   "cell_type": "code",
   "execution_count": 113,
   "metadata": {},
   "outputs": [
    {
     "data": {
      "text/html": [
       "<div>\n",
       "<style scoped>\n",
       "    .dataframe tbody tr th:only-of-type {\n",
       "        vertical-align: middle;\n",
       "    }\n",
       "\n",
       "    .dataframe tbody tr th {\n",
       "        vertical-align: top;\n",
       "    }\n",
       "\n",
       "    .dataframe thead th {\n",
       "        text-align: right;\n",
       "    }\n",
       "</style>\n",
       "<table border=\"1\" class=\"dataframe\">\n",
       "  <thead>\n",
       "    <tr style=\"text-align: right;\">\n",
       "      <th></th>\n",
       "      <th>session_id</th>\n",
       "      <th>session_position</th>\n",
       "      <th>session_length</th>\n",
       "      <th>track_id_clean</th>\n",
       "      <th>skip_1</th>\n",
       "      <th>skip_2</th>\n",
       "      <th>skip_3</th>\n",
       "      <th>not_skipped</th>\n",
       "      <th>context_switch</th>\n",
       "      <th>no_pause_before_play</th>\n",
       "      <th>...</th>\n",
       "      <th>long_pause_before_play</th>\n",
       "      <th>hist_user_behavior_n_seekfwd</th>\n",
       "      <th>hist_user_behavior_n_seekback</th>\n",
       "      <th>hist_user_behavior_is_shuffle</th>\n",
       "      <th>hour_of_day</th>\n",
       "      <th>date</th>\n",
       "      <th>premium</th>\n",
       "      <th>context_type</th>\n",
       "      <th>hist_user_behavior_reason_start</th>\n",
       "      <th>hist_user_behavior_reason_end</th>\n",
       "    </tr>\n",
       "  </thead>\n",
       "  <tbody>\n",
       "    <tr>\n",
       "      <th>1504</th>\n",
       "      <td>7_002686e2-9045-4730-8ebe-e9a16532df00</td>\n",
       "      <td>1</td>\n",
       "      <td>11</td>\n",
       "      <td>t_675c2e70-4d23-4032-a720-f1acd9b03842</td>\n",
       "      <td>True</td>\n",
       "      <td>True</td>\n",
       "      <td>True</td>\n",
       "      <td>False</td>\n",
       "      <td>0</td>\n",
       "      <td>0</td>\n",
       "      <td>...</td>\n",
       "      <td>0</td>\n",
       "      <td>0</td>\n",
       "      <td>0</td>\n",
       "      <td>True</td>\n",
       "      <td>18</td>\n",
       "      <td>2018-07-21</td>\n",
       "      <td>True</td>\n",
       "      <td>user_collection</td>\n",
       "      <td>fwdbtn</td>\n",
       "      <td>fwdbtn</td>\n",
       "    </tr>\n",
       "    <tr>\n",
       "      <th>1505</th>\n",
       "      <td>7_002686e2-9045-4730-8ebe-e9a16532df00</td>\n",
       "      <td>2</td>\n",
       "      <td>11</td>\n",
       "      <td>t_f2a1ae43-3ec2-40fc-92d1-5d8173249eba</td>\n",
       "      <td>True</td>\n",
       "      <td>True</td>\n",
       "      <td>True</td>\n",
       "      <td>False</td>\n",
       "      <td>0</td>\n",
       "      <td>1</td>\n",
       "      <td>...</td>\n",
       "      <td>0</td>\n",
       "      <td>0</td>\n",
       "      <td>0</td>\n",
       "      <td>True</td>\n",
       "      <td>18</td>\n",
       "      <td>2018-07-21</td>\n",
       "      <td>True</td>\n",
       "      <td>user_collection</td>\n",
       "      <td>fwdbtn</td>\n",
       "      <td>fwdbtn</td>\n",
       "    </tr>\n",
       "    <tr>\n",
       "      <th>1506</th>\n",
       "      <td>7_002686e2-9045-4730-8ebe-e9a16532df00</td>\n",
       "      <td>3</td>\n",
       "      <td>11</td>\n",
       "      <td>t_991198c8-d264-4cad-b6ac-27e1259a09bb</td>\n",
       "      <td>True</td>\n",
       "      <td>True</td>\n",
       "      <td>True</td>\n",
       "      <td>False</td>\n",
       "      <td>0</td>\n",
       "      <td>1</td>\n",
       "      <td>...</td>\n",
       "      <td>0</td>\n",
       "      <td>0</td>\n",
       "      <td>0</td>\n",
       "      <td>True</td>\n",
       "      <td>18</td>\n",
       "      <td>2018-07-21</td>\n",
       "      <td>True</td>\n",
       "      <td>user_collection</td>\n",
       "      <td>fwdbtn</td>\n",
       "      <td>endplay</td>\n",
       "    </tr>\n",
       "    <tr>\n",
       "      <th>1507</th>\n",
       "      <td>7_002686e2-9045-4730-8ebe-e9a16532df00</td>\n",
       "      <td>4</td>\n",
       "      <td>11</td>\n",
       "      <td>t_dfdd754b-eb70-4761-a84b-922a4bc06bef</td>\n",
       "      <td>False</td>\n",
       "      <td>True</td>\n",
       "      <td>True</td>\n",
       "      <td>False</td>\n",
       "      <td>0</td>\n",
       "      <td>1</td>\n",
       "      <td>...</td>\n",
       "      <td>0</td>\n",
       "      <td>0</td>\n",
       "      <td>0</td>\n",
       "      <td>True</td>\n",
       "      <td>18</td>\n",
       "      <td>2018-07-21</td>\n",
       "      <td>True</td>\n",
       "      <td>user_collection</td>\n",
       "      <td>clickrow</td>\n",
       "      <td>fwdbtn</td>\n",
       "    </tr>\n",
       "    <tr>\n",
       "      <th>1508</th>\n",
       "      <td>7_002686e2-9045-4730-8ebe-e9a16532df00</td>\n",
       "      <td>5</td>\n",
       "      <td>11</td>\n",
       "      <td>t_0431bbbf-8522-4458-8abe-e08a4e63801a</td>\n",
       "      <td>False</td>\n",
       "      <td>False</td>\n",
       "      <td>False</td>\n",
       "      <td>True</td>\n",
       "      <td>0</td>\n",
       "      <td>1</td>\n",
       "      <td>...</td>\n",
       "      <td>0</td>\n",
       "      <td>0</td>\n",
       "      <td>0</td>\n",
       "      <td>True</td>\n",
       "      <td>18</td>\n",
       "      <td>2018-07-21</td>\n",
       "      <td>True</td>\n",
       "      <td>user_collection</td>\n",
       "      <td>fwdbtn</td>\n",
       "      <td>trackdone</td>\n",
       "    </tr>\n",
       "  </tbody>\n",
       "</table>\n",
       "<p>5 rows × 21 columns</p>\n",
       "</div>"
      ],
      "text/plain": [
       "                                  session_id  session_position  \\\n",
       "1504  7_002686e2-9045-4730-8ebe-e9a16532df00                 1   \n",
       "1505  7_002686e2-9045-4730-8ebe-e9a16532df00                 2   \n",
       "1506  7_002686e2-9045-4730-8ebe-e9a16532df00                 3   \n",
       "1507  7_002686e2-9045-4730-8ebe-e9a16532df00                 4   \n",
       "1508  7_002686e2-9045-4730-8ebe-e9a16532df00                 5   \n",
       "\n",
       "      session_length                          track_id_clean  skip_1  skip_2  \\\n",
       "1504              11  t_675c2e70-4d23-4032-a720-f1acd9b03842    True    True   \n",
       "1505              11  t_f2a1ae43-3ec2-40fc-92d1-5d8173249eba    True    True   \n",
       "1506              11  t_991198c8-d264-4cad-b6ac-27e1259a09bb    True    True   \n",
       "1507              11  t_dfdd754b-eb70-4761-a84b-922a4bc06bef   False    True   \n",
       "1508              11  t_0431bbbf-8522-4458-8abe-e08a4e63801a   False   False   \n",
       "\n",
       "      skip_3  not_skipped  context_switch  no_pause_before_play  ...  \\\n",
       "1504    True        False               0                     0  ...   \n",
       "1505    True        False               0                     1  ...   \n",
       "1506    True        False               0                     1  ...   \n",
       "1507    True        False               0                     1  ...   \n",
       "1508   False         True               0                     1  ...   \n",
       "\n",
       "      long_pause_before_play  hist_user_behavior_n_seekfwd  \\\n",
       "1504                       0                             0   \n",
       "1505                       0                             0   \n",
       "1506                       0                             0   \n",
       "1507                       0                             0   \n",
       "1508                       0                             0   \n",
       "\n",
       "      hist_user_behavior_n_seekback  hist_user_behavior_is_shuffle  \\\n",
       "1504                              0                           True   \n",
       "1505                              0                           True   \n",
       "1506                              0                           True   \n",
       "1507                              0                           True   \n",
       "1508                              0                           True   \n",
       "\n",
       "      hour_of_day        date premium     context_type  \\\n",
       "1504           18  2018-07-21    True  user_collection   \n",
       "1505           18  2018-07-21    True  user_collection   \n",
       "1506           18  2018-07-21    True  user_collection   \n",
       "1507           18  2018-07-21    True  user_collection   \n",
       "1508           18  2018-07-21    True  user_collection   \n",
       "\n",
       "     hist_user_behavior_reason_start hist_user_behavior_reason_end  \n",
       "1504                          fwdbtn                        fwdbtn  \n",
       "1505                          fwdbtn                        fwdbtn  \n",
       "1506                          fwdbtn                       endplay  \n",
       "1507                        clickrow                        fwdbtn  \n",
       "1508                          fwdbtn                     trackdone  \n",
       "\n",
       "[5 rows x 21 columns]"
      ]
     },
     "execution_count": 113,
     "metadata": {},
     "output_type": "execute_result"
    }
   ],
   "source": [
    "df_all.head()"
   ]
  },
  {
   "cell_type": "code",
   "execution_count": 114,
   "metadata": {},
   "outputs": [
    {
     "data": {
      "text/plain": [
       "Index(['session_id', 'session_position', 'session_length', 'track_id_clean',\n",
       "       'skip_1', 'skip_2', 'skip_3', 'not_skipped', 'context_switch',\n",
       "       'no_pause_before_play', 'short_pause_before_play',\n",
       "       'long_pause_before_play', 'hist_user_behavior_n_seekfwd',\n",
       "       'hist_user_behavior_n_seekback', 'hist_user_behavior_is_shuffle',\n",
       "       'hour_of_day', 'date', 'premium', 'context_type',\n",
       "       'hist_user_behavior_reason_start', 'hist_user_behavior_reason_end'],\n",
       "      dtype='object')"
      ]
     },
     "execution_count": 114,
     "metadata": {},
     "output_type": "execute_result"
    }
   ],
   "source": [
    "# Columns of the dataset\n",
    "df_all.columns"
   ]
  },
  {
   "cell_type": "code",
   "execution_count": 115,
   "metadata": {},
   "outputs": [
    {
     "data": {
      "text/plain": [
       "124952"
      ]
     },
     "execution_count": 115,
     "metadata": {},
     "output_type": "execute_result"
    }
   ],
   "source": [
    "df_all['session_id'].nunique()"
   ]
  },
  {
   "cell_type": "code",
   "execution_count": 119,
   "metadata": {},
   "outputs": [
    {
     "data": {
      "text/plain": [
       "<matplotlib.axes._subplots.AxesSubplot at 0x7f62dfdb5ac8>"
      ]
     },
     "execution_count": 119,
     "metadata": {},
     "output_type": "execute_result"
    },
    {
     "data": {
      "image/png": "[encoded data removed]",
      "text/plain": [
       "<Figure size 432x288 with 1 Axes>"
      ]
     },
     "metadata": {
      "needs_background": "light"
     },
     "output_type": "display_data"
    }
   ],
   "source": [
    "df_all['session_position'].value_counts().sort_index().plot.bar()"
   ]
  },
  {
   "cell_type": "code",
   "execution_count": 120,
   "metadata": {},
   "outputs": [
    {
     "data": {
      "text/plain": [
       "<matplotlib.axes._subplots.AxesSubplot at 0x7f62dcea8240>"
      ]
     },
     "execution_count": 120,
     "metadata": {},
     "output_type": "execute_result"
    },
    {
     "data": {
      "image/png": "[encoded data removed]",
      "text/plain": [
       "<Figure size 432x288 with 1 Axes>"
      ]
     },
     "metadata": {
      "needs_background": "light"
     },
     "output_type": "display_data"
    }
   ],
   "source": [
    "df_all['session_length'].value_counts().sort_index().plot.bar()"
   ]
  },
  {
   "cell_type": "code",
   "execution_count": 121,
   "metadata": {},
   "outputs": [
    {
     "data": {
      "text/plain": [
       "<matplotlib.axes._subplots.AxesSubplot at 0x7f62de35ac50>"
      ]
     },
     "execution_count": 121,
     "metadata": {},
     "output_type": "execute_result"
    },
    {
     "data": {
      "image/png": "[encoded data removed]",
      "text/plain": [
       "<Figure size 432x288 with 1 Axes>"
      ]
     },
     "metadata": {
      "needs_background": "light"
     },
     "output_type": "display_data"
    }
   ],
   "source": [
    "df_all['skip_1'].value_counts().sort_index().plot.bar()"
   ]
  },
  {
   "cell_type": "code",
   "execution_count": 122,
   "metadata": {},
   "outputs": [
    {
     "data": {
      "text/plain": [
       "<matplotlib.axes._subplots.AxesSubplot at 0x7f62d72a4898>"
      ]
     },
     "execution_count": 122,
     "metadata": {},
     "output_type": "execute_result"
    },
    {
     "data": {
      "image/png": "[encoded data removed]",
      "text/plain": [
       "<Figure size 432x288 with 1 Axes>"
      ]
     },
     "metadata": {
      "needs_background": "light"
     },
     "output_type": "display_data"
    }
   ],
   "source": [
    "df_all['skip_2'].value_counts().sort_index().plot.bar()"
   ]
  },
  {
   "cell_type": "code",
   "execution_count": 123,
   "metadata": {},
   "outputs": [
    {
     "data": {
      "text/plain": [
       "<matplotlib.axes._subplots.AxesSubplot at 0x7f62d9ff34a8>"
      ]
     },
     "execution_count": 123,
     "metadata": {},
     "output_type": "execute_result"
    },
    {
     "data": {
      "image/png": "[encoded data removed]",
      "text/plain": [
       "<Figure size 432x288 with 1 Axes>"
      ]
     },
     "metadata": {
      "needs_background": "light"
     },
     "output_type": "display_data"
    }
   ],
   "source": [
    "df_all['skip_3'].value_counts().sort_index().plot.bar()"
   ]
  },
  {
   "cell_type": "code",
   "execution_count": 124,
   "metadata": {
    "scrolled": true
   },
   "outputs": [
    {
     "data": {
      "text/plain": [
       "<matplotlib.axes._subplots.AxesSubplot at 0x7f62e075b320>"
      ]
     },
     "execution_count": 124,
     "metadata": {},
     "output_type": "execute_result"
    },
    {
     "data": {
      "image/png": "[encoded data removed]",
      "text/plain": [
       "<Figure size 432x288 with 1 Axes>"
      ]
     },
     "metadata": {
      "needs_background": "light"
     },
     "output_type": "display_data"
    }
   ],
   "source": [
    "df_all['not_skipped'].value_counts().sort_index().plot.bar()"
   ]
  },
  {
   "cell_type": "code",
   "execution_count": 125,
   "metadata": {},
   "outputs": [
    {
     "data": {
      "text/plain": [
       "<matplotlib.axes._subplots.AxesSubplot at 0x7f62da026b70>"
      ]
     },
     "execution_count": 125,
     "metadata": {},
     "output_type": "execute_result"
    },
    {
     "data": {
      "image/png": "[encoded data removed]",
      "text/plain": [
       "<Figure size 432x288 with 1 Axes>"
      ]
     },
     "metadata": {
      "needs_background": "light"
     },
     "output_type": "display_data"
    }
   ],
   "source": [
    "df_all['context_switch'].value_counts().sort_index().plot.bar()"
   ]
  },
  {
   "cell_type": "code",
   "execution_count": 127,
   "metadata": {},
   "outputs": [
    {
     "data": {
      "text/plain": [
       "<matplotlib.axes._subplots.AxesSubplot at 0x7f62dcd02b38>"
      ]
     },
     "execution_count": 127,
     "metadata": {},
     "output_type": "execute_result"
    },
    {
     "data": {
      "image/png": "[encoded data removed]",
      "text/plain": [
       "<Figure size 432x288 with 1 Axes>"
      ]
     },
     "metadata": {
      "needs_background": "light"
     },
     "output_type": "display_data"
    }
   ],
   "source": [
    "df_all['no_pause_before_play'].value_counts().sort_index().plot.bar()"
   ]
  },
  {
   "cell_type": "code",
   "execution_count": 128,
   "metadata": {},
   "outputs": [
    {
     "data": {
      "text/plain": [
       "<matplotlib.axes._subplots.AxesSubplot at 0x7f62e07abbe0>"
      ]
     },
     "execution_count": 128,
     "metadata": {},
     "output_type": "execute_result"
    },
    {
     "data": {
      "image/png": "[encoded data removed]",
      "text/plain": [
       "<Figure size 432x288 with 1 Axes>"
      ]
     },
     "metadata": {
      "needs_background": "light"
     },
     "output_type": "display_data"
    }
   ],
   "source": [
    "df_all['short_pause_before_play'].value_counts().sort_index().plot.bar()"
   ]
  },
  {
   "cell_type": "code",
   "execution_count": 129,
   "metadata": {},
   "outputs": [
    {
     "data": {
      "text/plain": [
       "<matplotlib.axes._subplots.AxesSubplot at 0x7f62d73a3908>"
      ]
     },
     "execution_count": 129,
     "metadata": {},
     "output_type": "execute_result"
    },
    {
     "data": {
      "image/png": "[encoded data removed]",
      "text/plain": [
       "<Figure size 432x288 with 1 Axes>"
      ]
     },
     "metadata": {
      "needs_background": "light"
     },
     "output_type": "display_data"
    }
   ],
   "source": [
    "df_all['long_pause_before_play'].value_counts().sort_index().plot.bar()"
   ]
  },
  {
   "cell_type": "code",
   "execution_count": 112,
   "metadata": {},
   "outputs": [
    {
     "data": {
      "text/plain": [
       "<matplotlib.axes._subplots.AxesSubplot at 0x7f62dcca7908>"
      ]
     },
     "execution_count": 112,
     "metadata": {},
     "output_type": "execute_result"
    },
    {
     "data": {
      "image/png": "[encoded data removed]",
      "text/plain": [
       "<Figure size 432x288 with 1 Axes>"
      ]
     },
     "metadata": {
      "needs_background": "light"
     },
     "output_type": "display_data"
    }
   ],
   "source": [
    "pd.DataFrame(df_all['date'].value_counts().sort_index()).plot()"
   ]
  }
 ],
 "metadata": {
  "kernelspec": {
   "display_name": "Python 3",
   "language": "python",
   "name": "python3"
  },
  "language_info": {
   "codemirror_mode": {
    "name": "ipython",
    "version": 3
   },
   "file_extension": ".py",
   "mimetype": "text/x-python",
   "name": "python",
   "nbconvert_exporter": "python",
   "pygments_lexer": "ipython3",
   "version": "3.7.3"
  }
 },
 "nbformat": 4,
 "nbformat_minor": 2
}
